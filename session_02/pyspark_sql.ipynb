{
 "cells": [
  {
   "cell_type": "markdown",
   "metadata": {
    "id": "5-7vRh7EGS30"
   },
   "source": [
    "## **PySpark SQL - Getting Started Notebook**\n",
    "This notebook provides an example for installing Spark dependencies and a simple \"getting started\" syntax for PySpark SQL.\n",
    "\n",
    "NOTE: This notebook is designed to be used with Google's Colab notebook and the Python 3 runtime."
   ]
  },
  {
   "cell_type": "markdown",
   "metadata": {
    "id": "aZ24BRz6FMwN"
   },
   "source": [
    "## **Install Spark Dependencies**\n",
    "\n"
   ]
  },
  {
   "cell_type": "code",
   "execution_count": null,
   "metadata": {
    "id": "upqpisH2IoMy"
   },
   "outputs": [],
   "source": [
    "# Install Spark dependencies\n",
    "!apt-get install openjdk-8-jdk-headless -qq > /dev/null\n",
    "!rm spark-3.2.3-bin-hadoop3.2.tgz\n",
    "!wget --no-cookies --no-check-certificate https://dlcdn.apache.org/spark/spark-3.2.3/spark-3.2.3-bin-hadoop3.2.tgz\n",
    "!tar zxvf spark-3.2.3-bin-hadoop3.2.tgz\n",
    "!pip install -q findspark\n",
    "!pip install pyspark==3.2.3"
   ]
  },
  {
   "cell_type": "code",
   "execution_count": null,
   "metadata": {
    "id": "X2xvv-QnsQZs"
   },
   "outputs": [],
   "source": [
    "!ls -al | grep spark"
   ]
  },
  {
   "cell_type": "markdown",
   "metadata": {
    "id": "3NgWpb22FchD"
   },
   "source": [
    "## **Set env variables within Pyspark**"
   ]
  },
  {
   "cell_type": "code",
   "execution_count": null,
   "metadata": {
    "id": "I47MHeUcyH1j"
   },
   "outputs": [],
   "source": [
    "# Set up required environment variables\n",
    "import os\n",
    "os.environ[\"JAVA_HOME\"]  = \"/usr/lib/jvm/java-8-openjdk-amd64\"\n",
    "os.environ[\"SPARK_HOME\"] = \"/content/spark-3.2.3-bin-hadoop3.2\""
   ]
  },
  {
   "cell_type": "markdown",
   "metadata": {
    "id": "6wa2iydLFsWW"
   },
   "source": [
    "## **Download Data**"
   ]
  },
  {
   "cell_type": "code",
   "execution_count": null,
   "metadata": {
    "id": "rYe4U8Jnx39a"
   },
   "outputs": [],
   "source": [
    "!wget https://raw.githubusercontent.com/zaratsian/iaa-2023/main/session_02/bikeshare_station_info.csv\n",
    "!wget https://raw.githubusercontent.com/zaratsian/iaa-2023/main/session_02/bikeshare_trips.csv"
   ]
  },
  {
   "cell_type": "markdown",
   "metadata": {
    "id": "lvMtRJwUFzie"
   },
   "source": [
    "## **Import Python and PySpark Libraries**"
   ]
  },
  {
   "cell_type": "code",
   "execution_count": null,
   "metadata": {
    "id": "2-SIpC_-aw0t"
   },
   "outputs": [],
   "source": [
    "import datetime\n",
    "from pyspark import SparkContext\n",
    "from pyspark.sql import SparkSession\n",
    "from pyspark.sql.types import *\n",
    "from pyspark.sql.functions import monotonically_increasing_id, col, expr, when, concat, lit, udf, split\n",
    "from pyspark.ml.linalg import Vectors\n",
    "from pyspark.ml.regression import GBTRegressor, LinearRegression, GeneralizedLinearRegression\n",
    "from pyspark.ml.classification import GBTClassifier\n",
    "from pyspark.ml.feature import VectorIndexer, VectorAssembler, StringIndexer\n",
    "from pyspark.ml.evaluation import RegressionEvaluator\n",
    "from pyspark.ml import Pipeline\n",
    "from pyspark.ml.evaluation import MulticlassClassificationEvaluator"
   ]
  },
  {
   "cell_type": "markdown",
   "metadata": {
    "id": "XyT917EuF7Pv"
   },
   "source": [
    "## **Initialize Spark Session**"
   ]
  },
  {
   "cell_type": "code",
   "execution_count": null,
   "metadata": {
    "id": "niAz2S672M_m"
   },
   "outputs": [],
   "source": [
    "spark = SparkSession.builder.appName(\"Bikesharing SparkSQL\").master(\"local[*]\").getOrCreate()"
   ]
  },
  {
   "cell_type": "markdown",
   "metadata": {
    "id": "hL4NPf_ZF_OF"
   },
   "source": [
    "## **Read CSV into Spark**"
   ]
  },
  {
   "cell_type": "code",
   "execution_count": null,
   "metadata": {
    "id": "hC6C3wKwyBbt"
   },
   "outputs": [],
   "source": [
    "bikeshare_trips = spark.read.load('bikeshare_trips.csv', format=\"csv\", header=True, inferSchema=True)"
   ]
  },
  {
   "cell_type": "markdown",
   "metadata": {
    "id": "Nqf2c9xOGFDb"
   },
   "source": [
    "## **Display first few records**"
   ]
  },
  {
   "cell_type": "code",
   "execution_count": null,
   "metadata": {
    "id": "Deym0a0pyNNu"
   },
   "outputs": [],
   "source": [
    "bikeshare_trips.show(5, truncate=False)"
   ]
  },
  {
   "cell_type": "markdown",
   "metadata": {
    "id": "N_v2cyCFGMn1"
   },
   "source": [
    "## **Execute Sample SparkSQL query**"
   ]
  },
  {
   "cell_type": "code",
   "execution_count": null,
   "metadata": {
    "id": "TPheTgdLyddA"
   },
   "outputs": [],
   "source": [
    "bikeshare_trips.createOrReplaceTempView(\"bikeshare_trips\")\n",
    "spark.sql(\"SELECT subscriber_type, count(*) as count FROM bikeshare_trips group by subscriber_type order by count desc\").show(truncate=False)"
   ]
  },
  {
   "cell_type": "code",
   "execution_count": null,
   "metadata": {
    "id": "nEWC_7BUzNKN"
   },
   "outputs": [],
   "source": []
  }
 ],
 "metadata": {
  "colab": {
   "name": "pyspark_sql.ipynb",
   "provenance": [],
   "toc_visible": true
  },
  "environment": {
   "kernel": "python3",
   "name": "tf2-gpu.2-8.m100",
   "type": "gcloud",
   "uri": "gcr.io/deeplearning-platform-release/tf2-gpu.2-8:m100"
  },
  "kernelspec": {
   "display_name": "Python 3",
   "language": "python",
   "name": "python3"
  },
  "language_info": {
   "codemirror_mode": {
    "name": "ipython",
    "version": 3
   },
   "file_extension": ".py",
   "mimetype": "text/x-python",
   "name": "python",
   "nbconvert_exporter": "python",
   "pygments_lexer": "ipython3",
   "version": "3.7.12"
  }
 },
 "nbformat": 4,
 "nbformat_minor": 4
}
