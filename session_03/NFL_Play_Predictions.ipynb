{
  "nbformat": 4,
  "nbformat_minor": 0,
  "metadata": {
    "kernelspec": {
      "name": "python3",
      "display_name": "Python 3"
    },
    "colab": {
      "provenance": []
    }
  },
  "cells": [
    {
      "cell_type": "markdown",
      "metadata": {
        "collapsed": true,
        "id": "YUPMSTIwgDUX"
      },
      "source": [
        "![CRISP-DM](https://raw.githubusercontent.com/zaratsian/Spark/master/nfl_banner2.png)\n"
      ]
    },
    {
      "cell_type": "markdown",
      "metadata": {
        "id": "NxKQnNZpgDUa"
      },
      "source": [
        "## Use Case:  Predicting NFL plays"
      ]
    },
    {
      "cell_type": "markdown",
      "metadata": {
        "id": "E5TU-bCggDUb"
      },
      "source": [
        "## Loading Libraries"
      ]
    },
    {
      "cell_type": "code",
      "metadata": {
        "id": "8gAjWzfss5nB"
      },
      "source": [
        "# Install Spark dependencies\n",
        "!apt-get install openjdk-8-jdk-headless -qq > /dev/null\n",
        "!rm spark-3.2.3-bin-hadoop3.2.tgz\n",
        "!wget --no-cookies --no-check-certificate https://dlcdn.apache.org/spark/spark-3.2.3/spark-3.2.3-bin-hadoop3.2.tgz\n",
        "!tar zxvf spark-3.2.3-bin-hadoop3.2.tgz\n",
        "!pip install -q findspark\n",
        "!pip install pyspark==3.2.3"
      ],
      "execution_count": null,
      "outputs": []
    },
    {
      "cell_type": "code",
      "metadata": {
        "id": "GbtsIJwBgDUc"
      },
      "source": [
        "import os\n",
        "os.environ[\"JAVA_HOME\"]  = \"/usr/lib/jvm/java-8-openjdk-amd64\"\n",
        "os.environ[\"SPARK_HOME\"] = \"/content/spark-3.2.3-bin-hadoop3.2\"\n",
        "\n",
        "from pyspark import SparkContext\n",
        "from pyspark.sql import SparkSession\n",
        "\n",
        "import datetime, time \n",
        "import re, random, sys\n",
        "from pyspark.sql.types import StructType, StructField, ArrayType, IntegerType, StringType, FloatType, LongType, DateType\n",
        "from pyspark.sql.functions import struct, array, lit, monotonically_increasing_id, col, expr, when, concat, udf, split, size, lag, count, isnull\n",
        "from pyspark.sql import Window\n",
        "from pyspark.ml.linalg import Vectors\n",
        "from pyspark.ml.regression import GBTRegressor, LinearRegression, GeneralizedLinearRegression, RandomForestRegressor\n",
        "from pyspark.ml.classification import GBTClassifier, RandomForestClassifier\n",
        "from pyspark.ml.feature import VectorIndexer, VectorAssembler, StringIndexer, IndexToString\n",
        "from pyspark.ml.evaluation import RegressionEvaluator\n",
        "from pyspark.ml import Pipeline, PipelineModel\n",
        "from pyspark.ml.evaluation import MulticlassClassificationEvaluator, RegressionEvaluator"
      ],
      "execution_count": 2,
      "outputs": []
    },
    {
      "cell_type": "code",
      "metadata": {
        "id": "ibznxCWCgDUg"
      },
      "source": [
        "# Initialize Spark Session\n",
        "spark = SparkSession.builder.appName(\"Spark NFL Predictions\").master(\"local[*]\").getOrCreate()"
      ],
      "execution_count": 3,
      "outputs": []
    },
    {
      "cell_type": "markdown",
      "metadata": {
        "id": "n4lFP7FZgDUj"
      },
      "source": [
        "## Data Ingestion"
      ]
    },
    {
      "cell_type": "markdown",
      "metadata": {
        "id": "9rbCOB_3gDUp"
      },
      "source": [
        "### Download Data"
      ]
    },
    {
      "cell_type": "code",
      "metadata": {
        "id": "BMoXBsC7uprL"
      },
      "source": [
        "!wget https://raw.githubusercontent.com/zaratsian/Datasets/master/NFLPlaybyPlay.csv"
      ],
      "execution_count": null,
      "outputs": []
    },
    {
      "cell_type": "markdown",
      "metadata": {
        "id": "k9kPiGZOupEc"
      },
      "source": [
        "### Load data into Spark Dataframe"
      ]
    },
    {
      "cell_type": "code",
      "metadata": {
        "id": "nkjkgkipgDUq"
      },
      "source": [
        "schema = StructType([\n",
        "    StructField(\"id\", IntegerType()),\n",
        "    StructField(\"Date\", DateType()),\n",
        "    StructField(\"GameID\", IntegerType()),\n",
        "    StructField(\"Drive\", IntegerType()),\n",
        "    StructField(\"qtr\", IntegerType()),\n",
        "    StructField(\"down\", StringType()),\n",
        "    StructField(\"time\", StringType()),\n",
        "    StructField(\"TimeUnder\", IntegerType()),\n",
        "    StructField(\"TimeSecs\", StringType()),\n",
        "    StructField(\"PlayTimeDiff\", StringType()),\n",
        "    StructField(\"SideofField\", StringType()),\n",
        "    StructField(\"yrdln\", StringType()),\n",
        "    StructField(\"yrdline100\", StringType()),\n",
        "    StructField(\"ydstogo\", IntegerType()),\n",
        "    StructField(\"ydsnet\", IntegerType()),\n",
        "    StructField(\"GoalToGo\", StringType()),\n",
        "    StructField(\"FirstDown\", StringType()),\n",
        "    StructField(\"posteam\", StringType()),\n",
        "    StructField(\"DefensiveTeam\", StringType()),\n",
        "    StructField(\"desc\", StringType()),\n",
        "    StructField(\"PlayAttempted\", IntegerType()),\n",
        "    StructField(\"Yards_Gained\", IntegerType()),\n",
        "    StructField(\"sp\", IntegerType()),\n",
        "    StructField(\"Touchdown\", IntegerType()),\n",
        "    StructField(\"ExPointResult\", StringType()),\n",
        "    StructField(\"TwoPointConv\", StringType()),\n",
        "    StructField(\"DefTwoPoint\", StringType()),\n",
        "    StructField(\"Safety\", IntegerType()),\n",
        "    StructField(\"PuntResult\", StringType()),\n",
        "    StructField(\"PlayType\", StringType()),\n",
        "    StructField(\"Passer\", StringType()),\n",
        "    StructField(\"PassAttempt\", IntegerType()),\n",
        "    StructField(\"PassOutcome\", StringType()),\n",
        "    StructField(\"PassLength\", StringType()),\n",
        "    StructField(\"PassLocation\", StringType()),\n",
        "    StructField(\"InterceptionThrown\", IntegerType()),\n",
        "    StructField(\"Interceptor\", StringType()),\n",
        "    StructField(\"Rusher\", StringType()),\n",
        "    StructField(\"RushAttempt\", IntegerType()),\n",
        "    StructField(\"RunLocation\", StringType()),\n",
        "    StructField(\"RunGap\", StringType()),\n",
        "    StructField(\"Receiver\", StringType()),\n",
        "    StructField(\"Reception\", IntegerType()),\n",
        "    StructField(\"ReturnResult\", StringType()),\n",
        "    StructField(\"Returner\", StringType()),\n",
        "    StructField(\"BlockingPlayer\", StringType()),\n",
        "    StructField(\"Tackler1\", StringType()),\n",
        "    StructField(\"Tackler2\", StringType()),\n",
        "    StructField(\"FieldGoalResult\", StringType()),\n",
        "    StructField(\"FieldGoalDistance\", StringType()),\n",
        "    StructField(\"Fumble\", IntegerType()),\n",
        "    StructField(\"RecFumbTeam\", StringType()),\n",
        "    StructField(\"RecFumbPlayer\", StringType()),\n",
        "    StructField(\"Sack\", IntegerType()),\n",
        "    StructField(\"Challenge.Replay\", IntegerType()),\n",
        "    StructField(\"ChalReplayResult\", StringType()),\n",
        "    StructField(\"Accepted.Penalty\", IntegerType()),\n",
        "    StructField(\"PenalizedTeam\", StringType()),\n",
        "    StructField(\"PenaltyType\", StringType()),\n",
        "    StructField(\"PenalizedPlayer\", StringType()),\n",
        "    StructField(\"Penalty.Yards\", IntegerType()),\n",
        "    StructField(\"PosTeamScore\", StringType()),\n",
        "    StructField(\"DefTeamScore\", StringType()),\n",
        "    StructField(\"ScoreDiff\", StringType()),\n",
        "    StructField(\"AbsScoreDiff\", StringType()),\n",
        "    StructField(\"Season\", IntegerType())\n",
        "])\n",
        "\n",
        "rawdata = spark.read.load('NFLPlaybyPlay.csv', format=\"csv\", header=True, schema=schema)"
      ],
      "execution_count": 5,
      "outputs": []
    },
    {
      "cell_type": "code",
      "metadata": {
        "id": "upprPZnZ3z--",
        "colab": {
          "base_uri": "https://localhost:8080/"
        },
        "outputId": "72f7eac8-9bd7-4cfe-c231-27860d753917"
      },
      "source": [
        "rawdata.show(10,False)"
      ],
      "execution_count": 6,
      "outputs": [
        {
          "output_type": "stream",
          "name": "stdout",
          "text": [
            "+---+----------+----------+-----+---+----+-----+---------+--------+------------+-----------+-----+----------+-------+------+--------+---------+-------+-------------+-------------------------------------------------------------------------------------------------------------------------------------------------------------------------+-------------+------------+---+---------+-------------+------------+-----------+------+----------+--------+----------------+-----------+-----------+----------+------------+------------------+-----------+-----------+-----------+-----------+------+--------+---------+------------+--------+--------------+-----------+--------+---------------+-----------------+------+-----------+-------------+----+----------------+----------------+----------------+-------------+-----------+---------------+-------------+------------+------------+---------+------------+------+\n",
            "|id |Date      |GameID    |Drive|qtr|down|time |TimeUnder|TimeSecs|PlayTimeDiff|SideofField|yrdln|yrdline100|ydstogo|ydsnet|GoalToGo|FirstDown|posteam|DefensiveTeam|desc                                                                                                                                                                     |PlayAttempted|Yards_Gained|sp |Touchdown|ExPointResult|TwoPointConv|DefTwoPoint|Safety|PuntResult|PlayType|Passer          |PassAttempt|PassOutcome|PassLength|PassLocation|InterceptionThrown|Interceptor|Rusher     |RushAttempt|RunLocation|RunGap|Receiver|Reception|ReturnResult|Returner|BlockingPlayer|Tackler1   |Tackler2|FieldGoalResult|FieldGoalDistance|Fumble|RecFumbTeam|RecFumbPlayer|Sack|Challenge.Replay|ChalReplayResult|Accepted.Penalty|PenalizedTeam|PenaltyType|PenalizedPlayer|Penalty.Yards|PosTeamScore|DefTeamScore|ScoreDiff|AbsScoreDiff|Season|\n",
            "+---+----------+----------+-----+---+----+-----+---------+--------+------------+-----------+-----+----------+-------+------+--------+---------+-------+-------------+-------------------------------------------------------------------------------------------------------------------------------------------------------------------------+-------------+------------+---+---------+-------------+------------+-----------+------+----------+--------+----------------+-----------+-----------+----------+------------+------------------+-----------+-----------+-----------+-----------+------+--------+---------+------------+--------+--------------+-----------+--------+---------------+-----------------+------+-----------+-------------+----+----------------+----------------+----------------+-------------+-----------+---------------+-------------+------------+------------+---------+------------+------+\n",
            "|36 |2015-09-10|2015091000|1    |1  |NA  |15:00|15       |3600    |0           |NE         |35   |35        |0      |0     |0       |NA       |PIT    |NE           |S.Gostkowski kicks 65 yards from NE 35 to end zone, Touchback.                                                                                                           |1            |0           |0  |0        |NA           |NA          |NA         |0     |NA        |Kickoff |NA              |0          |NA         |NA        |NA          |0                 |NA         |NA         |0          |NA         |NA    |NA      |0        |Touchback   |NA      |NA            |NA         |NA      |NA             |NA               |0     |NA         |NA           |0   |0               |NA              |0               |NA           |NA         |NA             |0            |0           |0           |0        |0           |2015  |\n",
            "|51 |2015-09-10|2015091000|1    |1  |1   |15:00|15       |3600    |0           |PIT        |20   |80        |10     |18    |0       |1        |PIT    |NE           |(15:00) De.Williams right tackle to PIT 38 for 18 yards (D.Hightower).                                                                                                   |1            |18          |0  |0        |NA           |NA          |NA         |0     |NA        |Run     |NA              |0          |NA         |NA        |NA          |0                 |NA         |D.Hightower|1          |right      |tackle|NA      |0        |NA          |NA      |NA            |D.Hightower|NA      |NA             |NA               |0     |NA         |NA           |0   |0               |NA              |0               |NA           |NA         |NA             |0            |0           |0           |0        |0           |2015  |\n",
            "|72 |2015-09-10|2015091000|1    |1  |1   |14:21|15       |3561    |39          |PIT        |38   |62        |10     |31    |0       |0        |PIT    |NE           |(14:21) B.Roethlisberger pass short right to A.Brown pushed ob at PIT 47 for 9 yards (D.Hightower).                                                                      |1            |9           |0  |0        |NA           |NA          |NA         |0     |NA        |Pass    |B.Roethlisberger|1          |Complete   |Short     |right       |0                 |NA         |NA         |0          |NA         |NA    |A.Brown |1        |NA          |NA      |NA            |D.Hightower|NA      |NA             |NA               |0     |NA         |NA           |0   |0               |NA              |0               |NA           |NA         |NA             |0            |0           |0           |0        |0           |2015  |\n",
            "|101|2015-09-10|2015091000|1    |1  |2   |14:04|15       |3544    |17          |PIT        |47   |53        |1      |31    |0       |1        |PIT    |NE           |(14:04) De.Williams right guard to NE 49 for 4 yards (J.Collins; M.Brown).                                                                                               |1            |4           |0  |0        |NA           |NA          |NA         |0     |NA        |Run     |NA              |0          |NA         |NA        |NA          |0                 |NA         |J.Collins  |1          |right      |guard |NA      |0        |NA          |NA      |NA            |J.Collins  |M.Brown |NA             |NA               |0     |NA         |NA           |0   |0               |NA              |0               |NA           |NA         |NA             |0            |0           |0           |0        |0           |2015  |\n",
            "|122|2015-09-10|2015091000|1    |1  |1   |13:26|14       |3506    |38          |NE         |49   |49        |10     |45    |0       |1        |PIT    |NE           |(13:26) B.Roethlisberger pass short right to H.Miller to NE 35 for 14 yards (J.Mayo).                                                                                    |1            |14          |0  |0        |NA           |NA          |NA         |0     |NA        |Pass    |B.Roethlisberger|1          |Complete   |Short     |right       |0                 |NA         |NA         |0          |NA         |NA    |H.Miller|1        |NA          |NA      |NA            |J.Mayo     |NA      |NA             |NA               |0     |NA         |NA           |0   |0               |NA              |0               |NA           |NA         |NA             |0            |0           |0           |0        |0           |2015  |\n",
            "|159|2015-09-10|2015091000|1    |1  |1   |12:42|13       |3462    |44          |NE         |35   |35        |10     |56    |0       |1        |PIT    |NE           |(12:42) (Shotgun) De.Williams right guard to NE 24 for 11 yards (J.Collins).                                                                                             |1            |11          |0  |0        |NA           |NA          |NA         |0     |NA        |Run     |NA              |0          |NA         |NA        |NA          |0                 |NA         |J.Collins  |1          |right      |guard |NA      |0        |NA          |NA      |NA            |J.Collins  |NA      |NA             |NA               |0     |NA         |NA           |0   |0               |NA              |0               |NA           |NA         |NA             |0            |0           |0           |0        |0           |2015  |\n",
            "|180|2015-09-10|2015091000|1    |1  |1   |12:05|13       |3425    |37          |NE         |24   |24        |10     |48    |0       |0        |PIT    |NE           |(12:05) A.Brown sacked at NE 32 for -8 yards (M.Brown).                                                                                                                  |1            |-8          |0  |0        |NA           |NA          |NA         |0     |NA        |Sack    |NA              |0          |NA         |NA        |NA          |0                 |NA         |NA         |0          |NA         |NA    |NA      |0        |NA          |NA      |NA            |M.Brown    |NA      |NA             |NA               |0     |NA         |NA           |1   |0               |NA              |0               |NA           |NA         |NA             |0            |0           |0           |0        |0           |2015  |\n",
            "|199|2015-09-10|2015091000|1    |1  |2   |11:20|12       |3380    |45          |NE         |32   |32        |18     |54    |0       |0        |PIT    |NE           |(11:20) (Shotgun) De.Williams right end pushed ob at NE 28 for 4 yards (D.Hightower). PENALTY on PIT-M.Gilbert, Offensive Holding, 10 yards, enforced at NE 32 - No Play.|1            |4           |0  |0        |NA           |NA          |NA         |0     |NA        |No Play |NA              |0          |NA         |NA        |NA          |0                 |NA         |NA         |0          |NA         |NA    |NA      |0        |NA          |NA      |NA            |D.Hightower|NA      |NA             |NA               |0     |NA         |NA           |0   |0               |NA              |1               |PIT          |NA         |M.Gilbert      |10           |0           |0           |0        |0           |2015  |\n",
            "|236|2015-09-10|2015091000|1    |1  |2   |10:53|11       |3353    |27          |NE         |42   |42        |28     |54    |0       |0        |PIT    |NE           |(10:53) W.Johnson right guard to NE 36 for 6 yards (R.Ninkovich). NE-D.Easley was injured during the play. He is Out.                                                    |1            |6           |0  |0        |NA           |NA          |NA         |0     |NA        |Run     |NA              |0          |NA         |NA        |NA          |0                 |NA         |W.Johnson  |1          |right      |guard |NA      |0        |NA          |NA      |NA            |R.Ninkovich|NA      |NA             |NA               |0     |NA         |NA           |0   |0               |NA              |0               |NA           |NA         |NA             |0            |0           |0           |0        |0           |2015  |\n",
            "|261|2015-09-10|2015091000|1    |1  |3   |10:28|11       |3328    |25          |NE         |36   |36        |22     |54    |0       |0        |PIT    |NE           |(10:28) (Shotgun) B.Roethlisberger pass short right to H.Miller to NE 26 for 10 yards (P.Chung; M.Butler).                                                               |1            |10          |0  |0        |NA           |NA          |NA         |0     |NA        |Pass    |B.Roethlisberger|1          |Complete   |Short     |right       |0                 |NA         |NA         |0          |NA         |NA    |H.Miller|1        |NA          |NA      |NA            |P.Chung    |M.Butler|NA             |NA               |0     |NA         |NA           |0   |0               |NA              |0               |NA           |NA         |NA             |0            |0           |0           |0        |0           |2015  |\n",
            "+---+----------+----------+-----+---+----+-----+---------+--------+------------+-----------+-----+----------+-------+------+--------+---------+-------+-------------+-------------------------------------------------------------------------------------------------------------------------------------------------------------------------+-------------+------------+---+---------+-------------+------------+-----------+------+----------+--------+----------------+-----------+-----------+----------+------------+------------------+-----------+-----------+-----------+-----------+------+--------+---------+------------+--------+--------------+-----------+--------+---------------+-----------------+------+-----------+-------------+----+----------------+----------------+----------------+-------------+-----------+---------------+-------------+------------+------------+---------+------------+------+\n",
            "only showing top 10 rows\n",
            "\n"
          ]
        }
      ]
    },
    {
      "cell_type": "markdown",
      "metadata": {
        "id": "zETYN9oBgDUu"
      },
      "source": [
        "## Data Cleaning, Transformations, Enrichment"
      ]
    },
    {
      "cell_type": "markdown",
      "metadata": {
        "id": "z4_K17NngDUv"
      },
      "source": [
        "### Data Cleaning & Transformations"
      ]
    },
    {
      "cell_type": "code",
      "metadata": {
        "id": "BTBnFATvgDUw"
      },
      "source": [
        "columns_to_keep =   [   \n",
        "                    \"Date\", \"GameID\", \"Drive\", \"qtr\", \"down\", \"time\", \"TimeUnder\", \"TimeSecs\", \n",
        "                    \"PlayTimeDiff\", \"yrdline100\", \"ydstogo\", \"ydsnet\", \"FirstDown\", \"posteam\", \n",
        "                    \"DefensiveTeam\", \"Yards_Gained\", \"Touchdown\", \"PlayType\", \"PassLength\", \n",
        "                    \"PassLocation\", \"RunLocation\",\n",
        "                    #\"Passer\", \"Rusher\", \"InterceptionThrown\", \"Season\"\n",
        "                    \"PosTeamScore\", \"DefTeamScore\"\n",
        "                    ]\n",
        "\n",
        "# Filter columns (keep)\n",
        "nfldata = rawdata.select(columns_to_keep)\n",
        "\n",
        "# Drop rows with NAa:\n",
        "nfldata = nfldata.filter(nfldata.down != 'NA')\n",
        "\n",
        "# approxQuantile\n",
        "nfldata.approxQuantile(col='Yards_Gained', probabilities=[0.0, 0.1, 0.2, 0.3, 0.4, 0.5, 0.6, 0.7, 0.8, 0.9, 1.0], relativeError=0.05)\n",
        "\n",
        "# Filter target variable (Yards_Gained) to remove outliers\n",
        "nfldata = nfldata.filter( (col('Yards_Gained') <= 20 ) & (col('Yards_Gained') >= -5 ) )\n",
        "nfldata.approxQuantile(col='Yards_Gained', probabilities=[0.0, 0.1, 0.2, 0.3, 0.4, 0.5, 0.6, 0.7, 0.8, 0.9, 1.0], relativeError=0.05)\n",
        "\n",
        "numeric_columns     = [c[0] for c in nfldata.dtypes if c[1] not in ['string','timestamp']]\n",
        "categorical_columns = [c[0] for c in nfldata.dtypes if c[1] in ['string']]\n",
        "datetime_columns    = [c[0] for c in nfldata.dtypes if c[1] in ['timestamp']]\n"
      ],
      "execution_count": 7,
      "outputs": []
    },
    {
      "cell_type": "markdown",
      "metadata": {
        "id": "KDi06NJTgDU0"
      },
      "source": [
        "### Data Enrichment & Additional Transformations"
      ]
    },
    {
      "cell_type": "code",
      "metadata": {
        "id": "N6gEI99xgDU1",
        "colab": {
          "base_uri": "https://localhost:8080/"
        },
        "outputId": "64d42d6d-0fb9-4e0f-a562-f5e7ae87deb5"
      },
      "source": [
        "nfldata2 = nfldata.withColumn(\"Date\",            col(\"Date\"))                       \\\n",
        "                    .withColumn(\"GameID\",       col(\"GameID\").cast(\"int\"))          \\\n",
        "                    .withColumn(\"Drive\",        col(\"Drive\").cast(\"int\"))           \\\n",
        "                    .withColumn(\"qtr\",          col(\"qtr\").cast(\"int\"))             \\\n",
        "                    .withColumn(\"down\",         col(\"down\").cast(\"int\"))            \\\n",
        "                    .withColumn(\"time\",         col(\"time\").cast(\"string\"))         \\\n",
        "                    .withColumn(\"TimeUnder\",    col(\"TimeUnder\").cast(\"int\"))       \\\n",
        "                    .withColumn(\"TimeSecs\",     col(\"TimeSecs\").cast(\"int\"))        \\\n",
        "                    .withColumn(\"PlayTimeDiff\", col(\"PlayTimeDiff\").cast(\"int\"))    \\\n",
        "                    .withColumn(\"yrdline100\",   col(\"yrdline100\").cast(\"int\"))      \\\n",
        "                    .withColumn(\"ydstogo\",      col(\"ydstogo\").cast(\"int\"))         \\\n",
        "                    .withColumn(\"ydsnet\",       col(\"ydsnet\").cast(\"int\"))          \\\n",
        "                    .withColumn(\"FirstDown\",    col(\"FirstDown\").cast(\"int\"))       \\\n",
        "                    .withColumn(\"posteam\",      col(\"posteam\").cast(\"string\"))      \\\n",
        "                    .withColumn(\"DefensiveTeam\",col(\"DefensiveTeam\").cast(\"string\"))\\\n",
        "                    .withColumn(\"Yards_Gained\", col(\"Yards_Gained\").cast(\"int\"))    \\\n",
        "                    .withColumn(\"Touchdown\",    col(\"Touchdown\").cast(\"int\"))       \\\n",
        "                    .withColumn(\"PlayType\",     col(\"PlayType\").cast(\"string\"))     \\\n",
        "                    .withColumn(\"PassLength\",   col(\"PassLength\").cast(\"string\"))   \\\n",
        "                    .withColumn(\"PassLocation\", col(\"PassLocation\").cast(\"string\")) \\\n",
        "                    .withColumn(\"RunLocation\",  col(\"RunLocation\").cast(\"string\"))  \\\n",
        "                    .withColumn(\"PosTeamScore\", col(\"PosTeamScore\").cast(\"int\"))    \\\n",
        "                    .withColumn(\"DefTeamScore\", col(\"DefTeamScore\").cast(\"int\")) \n",
        "\n",
        "\n",
        "numeric_columns     = [c[0] for c in nfldata2.dtypes if c[1] not in ['string','timestamp']]\n",
        "categorical_columns = [c[0] for c in nfldata2.dtypes if c[1] in ['string']]\n",
        "datetime_columns    = [c[0] for c in nfldata2.dtypes if c[1] in ['timestamp']]\n",
        "\n",
        "# Category Levels\n",
        "[nfldata2.select(nfldata2[c]).groupBy(nfldata2[c]).count().show(5,False) for c in categorical_columns]"
      ],
      "execution_count": 8,
      "outputs": [
        {
          "output_type": "stream",
          "name": "stdout",
          "text": [
            "+-----+-----+\n",
            "|time |count|\n",
            "+-----+-----+\n",
            "|03:15|34   |\n",
            "|02:39|38   |\n",
            "|07:24|36   |\n",
            "|06:43|37   |\n",
            "|04:02|28   |\n",
            "+-----+-----+\n",
            "only showing top 5 rows\n",
            "\n",
            "+-------+-----+\n",
            "|posteam|count|\n",
            "+-------+-----+\n",
            "|NYJ    |1182 |\n",
            "|CAR    |1146 |\n",
            "|TB     |1121 |\n",
            "|OAK    |1113 |\n",
            "|DET    |1117 |\n",
            "+-------+-----+\n",
            "only showing top 5 rows\n",
            "\n",
            "+-------------+-----+\n",
            "|DefensiveTeam|count|\n",
            "+-------------+-----+\n",
            "|NYJ          |1105 |\n",
            "|CAR          |1122 |\n",
            "|TB           |1154 |\n",
            "|OAK          |1200 |\n",
            "|DET          |1064 |\n",
            "+-------------+-----+\n",
            "only showing top 5 rows\n",
            "\n",
            "+----------+-----+\n",
            "|PlayType  |count|\n",
            "+----------+-----+\n",
            "|Field Goal|985  |\n",
            "|Run       |12699|\n",
            "|No Play   |2463 |\n",
            "|QB Kneel  |424  |\n",
            "|Timeout   |2    |\n",
            "+----------+-----+\n",
            "only showing top 5 rows\n",
            "\n",
            "+----------+-----+\n",
            "|PassLength|count|\n",
            "+----------+-----+\n",
            "|NA        |18366|\n",
            "|Deep      |2755 |\n",
            "|Short     |14933|\n",
            "+----------+-----+\n",
            "\n",
            "+------------+-----+\n",
            "|PassLocation|count|\n",
            "+------------+-----+\n",
            "|NA          |18366|\n",
            "|left        |6648 |\n",
            "|middle      |3924 |\n",
            "|right       |7116 |\n",
            "+------------+-----+\n",
            "\n",
            "+-----------+-----+\n",
            "|RunLocation|count|\n",
            "+-----------+-----+\n",
            "|NA         |23473|\n",
            "|left       |4536 |\n",
            "|middle     |3365 |\n",
            "|right      |4680 |\n",
            "+-----------+-----+\n",
            "\n"
          ]
        },
        {
          "output_type": "execute_result",
          "data": {
            "text/plain": [
              "[None, None, None, None, None, None, None]"
            ]
          },
          "metadata": {},
          "execution_count": 8
        }
      ]
    },
    {
      "cell_type": "markdown",
      "metadata": {
        "id": "SxsG77SxgDU4"
      },
      "source": [
        "### Data Enrichment & Additional Transformations (Continued...)"
      ]
    },
    {
      "cell_type": "code",
      "metadata": {
        "id": "bE9UQsAwgDU5",
        "colab": {
          "base_uri": "https://localhost:8080/"
        },
        "outputId": "1363c1cc-e0c3-48ae-9160-66c9603b6afa"
      },
      "source": [
        "# Filter - Keep where Playtype in ['Run','Pass'] \n",
        "nfldata2 = nfldata2.filter( (nfldata2.PlayType==\"Run\") | (nfldata2.PlayType==\"Pass\") )\n",
        "\n",
        "# Derive Date var(s)\n",
        "nfldata2 = nfldata2.withColumn(\"month_day\", concat(nfldata2[\"Date\"].substr(6,2), nfldata2[\"Date\"].substr(9,2)).cast(\"int\") )\n",
        "\n",
        "# Lag (Get previous PlayType)\n",
        "w = Window().partitionBy('GameID','Drive').orderBy('GameID','Drive', col('TimeSecs').desc())\n",
        "nfldata2 = nfldata2.withColumn(\"PlayType_lag\", lag(\"PlayType\").over(w) ) \\\n",
        "                 .withColumn(\"PlayType_lag\",  when( isnull('PlayType_lag'), 'FirstPlay').otherwise( col('PlayType_lag') ) ) \\\n",
        "                 .orderBy('GameID','Drive', col('TimeSecs').desc())\n",
        "\n",
        "# Print Results\n",
        "#nfldata2.select([\"GameID\",\"Drive\",\"qtr\",\"down\",\"TimeSecs\",\"PlayType\",\"PlayType_lag\",\"yrdline100\",\"posteam\",\"month_day\"]).show(50,False)\n",
        "\n",
        "# Split into \"Run\" and \"Pass\" (I want to build two models)\n",
        "nfldata2_run  = nfldata2.filter( col('PlayType')=='Run' )\n",
        "nfldata2_pass = nfldata2.filter( col('PlayType')=='Pass' )\n",
        "\n",
        "print(\"Total Number of Records:   \" + str(nfldata2.count()))\n",
        "print(\"Number of Running Records: \" + str(nfldata2_run.count()))\n",
        "print(\"Number of Passing Records: \" + str(nfldata2_pass.count()))"
      ],
      "execution_count": 9,
      "outputs": [
        {
          "output_type": "stream",
          "name": "stdout",
          "text": [
            "Total Number of Records:   29412\n",
            "Number of Running Records: 12699\n",
            "Number of Passing Records: 16713\n"
          ]
        }
      ]
    },
    {
      "cell_type": "markdown",
      "metadata": {
        "id": "NwplP0cxgDV8"
      },
      "source": [
        "## Model Building"
      ]
    },
    {
      "cell_type": "markdown",
      "metadata": {
        "id": "g-omfCOIgDV9"
      },
      "source": [
        "### Split into Train and Test\n",
        "NOTE: You can use a randomsplit or something a little bit more appropriate like a [cross validator](https://spark.apache.org/docs/latest/ml-tuning.html#cross-validation)"
      ]
    },
    {
      "cell_type": "code",
      "metadata": {
        "id": "SXJ0pOCIgDV-"
      },
      "source": [
        "training_run, testing_run   = nfldata2_run.randomSplit([0.8, 0.2], seed=12345)\n",
        "training_pass, testing_pass = nfldata2_pass.randomSplit([0.8, 0.2], seed=12345)"
      ],
      "execution_count": 10,
      "outputs": []
    },
    {
      "cell_type": "markdown",
      "metadata": {
        "id": "jkga8ydLgDWB"
      },
      "source": [
        "### Building Model Pipeline"
      ]
    },
    {
      "cell_type": "code",
      "metadata": {
        "id": "PqwMHWiZgDWC"
      },
      "source": [
        "# Prepare string variables so that they can be used by the decision tree algorithm\n",
        "# StringIndexer encodes a string column of labels to a column of label indices\n",
        "si1 = StringIndexer(inputCol=\"PlayType\", outputCol=\"PlayType_index\")\n",
        "si2 = StringIndexer(inputCol=\"PlayType_lag\", outputCol=\"PlayType_lag_index\")\n",
        "si3 = StringIndexer(inputCol=\"PassLength\", outputCol=\"PassLength_index\")\n",
        "si4 = StringIndexer(inputCol=\"PassLocation\", outputCol=\"PassLocation_index\")\n",
        "si5 = StringIndexer(inputCol=\"RunLocation\", outputCol=\"RunLocation_index\")\n",
        "\n",
        "target   = 'Yards_Gained'\n",
        "features = ['qtr','down','TimeSecs','yrdline100','ydstogo','ydsnet','month_day','PlayType_lag_index']\n",
        "\n",
        "#encode the Label column: feature indexer\n",
        "fi = StringIndexer(inputCol='Yards_Gained', outputCol='label').fit(training_run)\n",
        "\n",
        "# Pipelines API requires that input variables are passed in  a vector\n",
        "va  = VectorAssembler(inputCols=features, outputCol=\"features\")"
      ],
      "execution_count": 11,
      "outputs": []
    },
    {
      "cell_type": "code",
      "metadata": {
        "id": "4PNT8OhVgDWE"
      },
      "source": [
        "# run the algorithm and build model taking the default settings\n",
        "rfr = RandomForestRegressor(featuresCol=\"label\", labelCol=target, predictionCol=\"prediction\", maxDepth=5, maxBins=350, seed=12345)\n",
        "gbr = GBTRegressor(featuresCol=\"features\", labelCol=target, predictionCol=\"prediction\", maxDepth=5, maxBins=350, seed=12345)\n",
        "\n",
        "# Convert indexed labels back to original labels, label converter\n",
        "labelConverter = IndexToString(inputCol=\"prediction\", outputCol=\"predictedLabel\", labels=fi.labels)"
      ],
      "execution_count": 12,
      "outputs": []
    },
    {
      "cell_type": "markdown",
      "metadata": {
        "id": "DIcZzrSYgDWI"
      },
      "source": [
        "### Training the Model"
      ]
    },
    {
      "cell_type": "code",
      "metadata": {
        "id": "9mY_iW1MgDWI"
      },
      "source": [
        "# Build the machine learning pipeline\n",
        "pipeline_run  = Pipeline(stages=[si2, fi, va, gbr, labelConverter])\n",
        "\n",
        "# Build model. \n",
        "# The fitted model from a Pipeline is a PipelineModel, which consists of fitted models and transformers, corresponding to the pipeline stages.\n",
        "model_run = pipeline_run.fit(training_run)\n",
        "\n",
        "# store the predictions on training data on HDFS\n",
        "#model_run.write().overwrite().save('hdfs://dzaratsian0.field.hortonworks.com:8020/models/nfl_model_run3')"
      ],
      "execution_count": 13,
      "outputs": []
    },
    {
      "cell_type": "code",
      "metadata": {
        "id": "bsneV1cfzjNJ",
        "colab": {
          "base_uri": "https://localhost:8080/"
        },
        "outputId": "66faf03d-c2d6-4ff8-fa95-5d7bf0835dbc"
      },
      "source": [
        "#dir(model_run.stages[-2])#.featureImportances\n",
        "model_run.stages[-2].featureImportances\n"
      ],
      "execution_count": 14,
      "outputs": [
        {
          "output_type": "execute_result",
          "data": {
            "text/plain": [
              "SparseVector(8, {0: 0.0016, 1: 0.0645, 2: 0.0519, 3: 0.2749, 4: 0.1074, 5: 0.434, 6: 0.0281, 7: 0.0377})"
            ]
          },
          "metadata": {},
          "execution_count": 14
        }
      ]
    },
    {
      "cell_type": "markdown",
      "metadata": {
        "id": "mK0EXD7zgDWM"
      },
      "source": [
        "## Making predictions against the Trained Model"
      ]
    },
    {
      "cell_type": "code",
      "metadata": {
        "id": "MQFrGRvQgDWN",
        "colab": {
          "base_uri": "https://localhost:8080/"
        },
        "outputId": "48474167-3bd7-4fa6-ea84-bca52dd37238"
      },
      "source": [
        "# Make predictions.\n",
        "predictions = model_run.transform(testing_run)\n",
        "# show the results\n",
        "predictions.show(3)"
      ],
      "execution_count": 15,
      "outputs": [
        {
          "output_type": "stream",
          "name": "stdout",
          "text": [
            "+----------+----------+-----+---+----+-----+---------+--------+------------+----------+-------+------+---------+-------+-------------+------------+---------+--------+----------+------------+-----------+------------+------------+---------+------------+------------------+-----+--------------------+------------------+--------------+\n",
            "|      Date|    GameID|Drive|qtr|down| time|TimeUnder|TimeSecs|PlayTimeDiff|yrdline100|ydstogo|ydsnet|FirstDown|posteam|DefensiveTeam|Yards_Gained|Touchdown|PlayType|PassLength|PassLocation|RunLocation|PosTeamScore|DefTeamScore|month_day|PlayType_lag|PlayType_lag_index|label|            features|        prediction|predictedLabel|\n",
            "+----------+----------+-----+---+----+-----+---------+--------+------------+----------+-------+------+---------+-------+-------------+------------+---------+--------+----------+------------+-----------+------------+------------+---------+------------+------------------+-----+--------------------+------------------+--------------+\n",
            "|2015-09-10|2015091000|    4|  1|   1|03:14|        4|    2894|          11|        90|     10|     8|        0|     NE|          PIT|           8|        0|     Run|        NA|          NA|       left|           0|           0|      910|   FirstPlay|               2.0| 10.0|[1.0,1.0,2894.0,9...|  8.38318635537436|             7|\n",
            "|2015-09-10|2015091000|    9|  3|   1|14:30|       15|    1770|          30|        70|     10|    14|        0|     NE|          PIT|           4|        0|     Run|        NA|          NA|     middle|          14|           3|      910|        Pass|               1.0|  3.0|[3.0,1.0,1770.0,7...|1.6047714843707075|             3|\n",
            "|2015-09-10|2015091000|    9|  3|   2|14:06|       15|    1746|          24|        66|      6|    15|        0|     NE|          PIT|           1|        0|     Run|        NA|          NA|      right|          14|           3|      910|         Run|               0.0|  2.0|[3.0,2.0,1746.0,6...| 4.394702832964645|             0|\n",
            "+----------+----------+-----+---+----+-----+---------+--------+------------+----------+-------+------+---------+-------+-------------+------------+---------+--------+----------+------------+-----------+------------+------------+---------+------------+------------------+-----+--------------------+------------------+--------------+\n",
            "only showing top 3 rows\n",
            "\n"
          ]
        }
      ]
    },
    {
      "cell_type": "markdown",
      "metadata": {
        "id": "Ie_aeTXHgDWQ"
      },
      "source": [
        "### Generate results of classifier"
      ]
    },
    {
      "cell_type": "code",
      "metadata": {
        "id": "d2cSMohfgDWQ",
        "colab": {
          "base_uri": "https://localhost:8080/"
        },
        "outputId": "1a590942-52b7-4a84-dc61-047070ca3552"
      },
      "source": [
        "predictions=predictions.select(predictions[\"Yards_Gained\"],predictions[\"predictedLabel\"],predictions[\"prediction\"])\n",
        "type(predictions)\n"
      ],
      "execution_count": 16,
      "outputs": [
        {
          "output_type": "execute_result",
          "data": {
            "text/plain": [
              "pyspark.sql.dataframe.DataFrame"
            ]
          },
          "metadata": {},
          "execution_count": 16
        }
      ]
    },
    {
      "cell_type": "code",
      "metadata": {
        "id": "G1XdWELsgDWU",
        "colab": {
          "base_uri": "https://localhost:8080/"
        },
        "outputId": "680268f6-f683-41e6-98fb-079c9327295e"
      },
      "source": [
        "predictions.show(5)"
      ],
      "execution_count": 17,
      "outputs": [
        {
          "output_type": "stream",
          "name": "stdout",
          "text": [
            "+------------+--------------+------------------+\n",
            "|Yards_Gained|predictedLabel|        prediction|\n",
            "+------------+--------------+------------------+\n",
            "|           8|             7|  8.38318635537436|\n",
            "|           4|             3|1.6047714843707075|\n",
            "|           1|             0| 4.394702832964645|\n",
            "|          10|             0| 4.983558080217296|\n",
            "|           0|             3|1.4026603901343502|\n",
            "+------------+--------------+------------------+\n",
            "only showing top 5 rows\n",
            "\n"
          ]
        }
      ]
    },
    {
      "cell_type": "markdown",
      "metadata": {
        "id": "KWJRGHxXgDWW"
      },
      "source": [
        "### Model Evaluation"
      ]
    },
    {
      "cell_type": "code",
      "metadata": {
        "id": "9qsCGzjRgDWX",
        "colab": {
          "base_uri": "https://localhost:8080/"
        },
        "outputId": "3436ddd5-3fea-4c69-e4e8-1ad01aeec75e"
      },
      "source": [
        "# Evaluate Results\n",
        "evaluator = RegressionEvaluator(metricName=\"rmse\", labelCol=target)  # rmse (default)|mse|r2|mae\n",
        "RMSE = evaluator.evaluate(predictions)\n",
        "print('RMSE: ' + str(RMSE))\n",
        "\n",
        "evaluator = RegressionEvaluator(metricName=\"mae\", labelCol=target)  # rmse (default)|mse|r2|mae\n",
        "MAE = evaluator.evaluate(predictions) # Mean Absolute Error\n",
        "print('MSE: ' + str(MAE))"
      ],
      "execution_count": 18,
      "outputs": [
        {
          "output_type": "stream",
          "name": "stdout",
          "text": [
            "RMSE: 3.2933225833950313\n",
            "MSE: 2.202440546510607\n"
          ]
        }
      ]
    },
    {
      "cell_type": "code",
      "source": [],
      "metadata": {
        "id": "QSYa7L53I_Qj"
      },
      "execution_count": null,
      "outputs": []
    }
  ]
}